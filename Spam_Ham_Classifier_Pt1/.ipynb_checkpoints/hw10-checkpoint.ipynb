{
 "cells": [
  {
   "cell_type": "code",
   "execution_count": 1,
   "metadata": {
    "deletable": false,
    "editable": false
   },
   "outputs": [],
   "source": [
    "# Initialize Otter\n",
    "import otter\n",
    "grader = otter.Notebook(\"hw10.ipynb\")"
   ]
  },
  {
   "cell_type": "markdown",
   "metadata": {},
   "source": [
    "# Homework 10: Spam/Ham Classification\n",
    "\n",
    "## Feature Engineering, Logistic Regression\n",
    "## Due Date: Monday 8/2,  11:59 PM PDT\n",
    "\n",
    "**Collaboration Policy**\n",
    "\n",
    "Data science is a collaborative activity. While you may talk with others about\n",
    "the homework, we ask that you **write your solutions individually**. If you do\n",
    "discuss the assignments with others please **include their names** at the top\n",
    "of your notebook."
   ]
  },
  {
   "cell_type": "markdown",
   "metadata": {},
   "source": [
    "**Collaborators**: *list collaborators here*"
   ]
  },
  {
   "cell_type": "markdown",
   "metadata": {
    "nbgrader": {
     "grade": false,
     "grade_id": "proj2",
     "locked": true,
     "schema_version": 2,
     "solution": false
    }
   },
   "source": [
    "## This Assignment\n",
    "In this homework, you will use what you've learned in class to create a classifier that can distinguish spam (junk or commercial or bulk) emails from ham (non-spam) emails. In addition to providing some skeleton code to fill in, we will evaluate your work based on your model's accuracy and your written responses in this notebook.\n",
    "\n",
    "After this homework, you should feel comfortable with the following:\n",
    "\n",
    "- Feature engineering with text data\n",
    "- Using `sklearn` libraries to process data and fit models\n",
    "- Validating the performance of your model and minimizing overfitting\n",
    "- Generating and analyzing precision-recall curves\n",
    "\n",
    "## Warning\n",
    "This is a **real world** dataset – the emails you are trying to classify are actual spam and legitimate emails. As a result, some of the spam emails may be in poor taste or be considered inappropriate. We think the benefit of working with realistic data outweighs these innapropriate emails, and wanted to give a warning at the beginning of the homework so that you are made aware."
   ]
  },
  {
   "cell_type": "code",
   "execution_count": 2,
   "metadata": {},
   "outputs": [],
   "source": [
    "# Run this cell to suppress all FutureWarnings\n",
    "import warnings\n",
    "warnings.filterwarnings(\"ignore\", category=FutureWarning)"
   ]
  },
  {
   "cell_type": "markdown",
   "metadata": {},
   "source": [
    "## Score Breakdown\n",
    "Question | Points\n",
    "--- | ---\n",
    "1 | 2\n",
    "2 | 3\n",
    "3 | 3\n",
    "4 | 2\n",
    "5 | 2\n",
    "6a | 1\n",
    "6b | 1\n",
    "6c | 2\n",
    "6d | 2\n",
    "6e | 1\n",
    "6f | 3\n",
    "Total | 22"
   ]
  },
  {
   "cell_type": "markdown",
   "metadata": {
    "nbgrader": {
     "grade": false,
     "grade_id": "p1",
     "locked": true,
     "schema_version": 2,
     "solution": false
    }
   },
   "source": [
    "# Part I - Initial Analysis"
   ]
  },
  {
   "cell_type": "code",
   "execution_count": 3,
   "metadata": {
    "ExecuteTime": {
     "end_time": "2019-04-03T20:17:41.341673Z",
     "start_time": "2019-04-03T20:17:41.330307Z"
    },
    "nbgrader": {
     "grade": false,
     "grade_id": "imports",
     "locked": true,
     "schema_version": 2,
     "solution": false
    }
   },
   "outputs": [],
   "source": [
    "import numpy as np\n",
    "import pandas as pd\n",
    "\n",
    "import matplotlib.pyplot as plt\n",
    "%matplotlib inline\n",
    "\n",
    "import seaborn as sns\n",
    "sns.set(style = \"whitegrid\", \n",
    "        color_codes = True,\n",
    "        font_scale = 1.5)"
   ]
  },
  {
   "cell_type": "markdown",
   "metadata": {
    "nbgrader": {
     "grade": false,
     "grade_id": "loading",
     "locked": true,
     "schema_version": 2,
     "solution": false
    }
   },
   "source": [
    "### Loading in the Data\n",
    "\n",
    "In email classification, our goal is to classify emails as spam or not spam (referred to as \"ham\") using features generated from the text in the email. \n",
    "\n",
    "The dataset consists of email messages and their labels (0 for ham, 1 for spam). Your labeled training dataset contains 8348 labeled examples, and the unlabeled test set contains 1000 unlabeled examples.\n",
    "\n",
    "Run the following cells to load in the data into DataFrames.\n",
    "\n",
    "The `train` DataFrame contains labeled data that you will use to train your model. It contains four columns:\n",
    "\n",
    "1. `id`: An identifier for the training example\n",
    "1. `subject`: The subject of the email\n",
    "1. `email`: The text of the email\n",
    "1. `spam`: 1 if the email is spam, 0 if the email is ham (not spam)\n",
    "\n",
    "The `test` DataFrame contains 1000 unlabeled emails. You will predict labels for these emails and submit your predictions to the autograder for evaluation."
   ]
  },
  {
   "cell_type": "code",
   "execution_count": 4,
   "metadata": {},
   "outputs": [],
   "source": [
    "import zipfile\n",
    "with zipfile.ZipFile('spam_ham_data.zip') as item:\n",
    "    item.extractall()"
   ]
  },
  {
   "cell_type": "code",
   "execution_count": 5,
   "metadata": {
    "scrolled": true
   },
   "outputs": [
    {
     "data": {
      "text/html": [
       "<div>\n",
       "<style scoped>\n",
       "    .dataframe tbody tr th:only-of-type {\n",
       "        vertical-align: middle;\n",
       "    }\n",
       "\n",
       "    .dataframe tbody tr th {\n",
       "        vertical-align: top;\n",
       "    }\n",
       "\n",
       "    .dataframe thead th {\n",
       "        text-align: right;\n",
       "    }\n",
       "</style>\n",
       "<table border=\"1\" class=\"dataframe\">\n",
       "  <thead>\n",
       "    <tr style=\"text-align: right;\">\n",
       "      <th></th>\n",
       "      <th>id</th>\n",
       "      <th>subject</th>\n",
       "      <th>email</th>\n",
       "      <th>spam</th>\n",
       "    </tr>\n",
       "  </thead>\n",
       "  <tbody>\n",
       "    <tr>\n",
       "      <th>0</th>\n",
       "      <td>0</td>\n",
       "      <td>Subject: A&amp;L Daily to be auctioned in bankrupt...</td>\n",
       "      <td>url: http://boingboing.net/#85534171\\n date: n...</td>\n",
       "      <td>0</td>\n",
       "    </tr>\n",
       "    <tr>\n",
       "      <th>1</th>\n",
       "      <td>1</td>\n",
       "      <td>Subject: Wired: \"Stronger ties between ISPs an...</td>\n",
       "      <td>url: http://scriptingnews.userland.com/backiss...</td>\n",
       "      <td>0</td>\n",
       "    </tr>\n",
       "    <tr>\n",
       "      <th>2</th>\n",
       "      <td>2</td>\n",
       "      <td>Subject: It's just too small                  ...</td>\n",
       "      <td>&lt;html&gt;\\n &lt;head&gt;\\n &lt;/head&gt;\\n &lt;body&gt;\\n &lt;font siz...</td>\n",
       "      <td>1</td>\n",
       "    </tr>\n",
       "    <tr>\n",
       "      <th>3</th>\n",
       "      <td>3</td>\n",
       "      <td>Subject: liberal defnitions\\n</td>\n",
       "      <td>depends on how much over spending vs. how much...</td>\n",
       "      <td>0</td>\n",
       "    </tr>\n",
       "    <tr>\n",
       "      <th>4</th>\n",
       "      <td>4</td>\n",
       "      <td>Subject: RE: [ILUG] Newbie seeks advice - Suse...</td>\n",
       "      <td>hehe sorry but if you hit caps lock twice the ...</td>\n",
       "      <td>0</td>\n",
       "    </tr>\n",
       "  </tbody>\n",
       "</table>\n",
       "</div>"
      ],
      "text/plain": [
       "   id                                            subject  \\\n",
       "0   0  Subject: A&L Daily to be auctioned in bankrupt...   \n",
       "1   1  Subject: Wired: \"Stronger ties between ISPs an...   \n",
       "2   2  Subject: It's just too small                  ...   \n",
       "3   3                      Subject: liberal defnitions\\n   \n",
       "4   4  Subject: RE: [ILUG] Newbie seeks advice - Suse...   \n",
       "\n",
       "                                               email  spam  \n",
       "0  url: http://boingboing.net/#85534171\\n date: n...     0  \n",
       "1  url: http://scriptingnews.userland.com/backiss...     0  \n",
       "2  <html>\\n <head>\\n </head>\\n <body>\\n <font siz...     1  \n",
       "3  depends on how much over spending vs. how much...     0  \n",
       "4  hehe sorry but if you hit caps lock twice the ...     0  "
      ]
     },
     "execution_count": 5,
     "metadata": {},
     "output_type": "execute_result"
    }
   ],
   "source": [
    "original_training_data = pd.read_csv('train.csv')\n",
    "test = pd.read_csv('test.csv')\n",
    "\n",
    "# Convert the emails to lower case as a first step to processing the text\n",
    "original_training_data['email'] = original_training_data['email'].str.lower()\n",
    "test['email'] = test['email'].str.lower()\n",
    "\n",
    "original_training_data.head()"
   ]
  },
  {
   "cell_type": "code",
   "execution_count": 6,
   "metadata": {},
   "outputs": [
    {
     "data": {
      "text/plain": [
       "['url: http://boingboing.net/#85534171\\n date: not supplied\\n \\n arts and letters daily, a wonderful and dense blog, has folded up its tent due \\n to the bankruptcy of its parent company. a&l daily will be auctioned off by the \\n receivers. link[1] discuss[2] (_thanks, misha!_)\\n \\n [1] http://www.aldaily.com/\\n [2] http://www.quicktopic.com/boing/h/zlfterjnd6jf\\n \\n \\n',\n",
       " 'url: http://scriptingnews.userland.com/backissues/2002/09/25#when:8:33:10am\\n date: wed, 25 sep 2002 15:33:10 gmt\\n \\n wired[1]: \"stronger ties between isps and file-trading companies could bolster \\n kazaa\\'s defenses.\"\\n \\n [1] http://www.wired.com/news/mp3/0,1285,55356,00.html\\n \\n \\n',\n",
       " '<html>\\n <head>\\n </head>\\n <body>\\n <font size=3d\"4\"><b> a man endowed with a 7-8\" hammer is simply<br>\\n  better equipped than a man with a 5-6\"hammer. <br>\\n <br>would you rather have<br>more than enough to get the job done or fall =\\n short. it\\'s totally up<br>to you. our methods are guaranteed to increase y=\\n our size by 1-3\"<br> <a href=3d\"http://209.163.187.47/cgi-bin/index.php?10=\\n 004\">come in here and see how</a>\\n </body>\\n </html>\\n \\n \\n \\n',\n",
       " 'depends on how much over spending vs. how much (and what type) over\\n regulation.\\n \\n the biggest problem with over regulation is the costs can be invisible.\\n it also has the ability to single out particular people, while over\\n spending spreads the damage more evenly.  rent control would be an\\n example of a regulation solution that is in general worse than spending\\n tons of money on public housing.\\n \\n as for the definition of a liberal being someone who seeks to impose\\n both, i find no fault in that definition whatsoever.  the opinion that\\n either we are spending too much or we have too much regulation is pretty\\n much anathema to liberal politics.\\n \\n finally, those who argue that there are private replacements for much\\n government regulation are not saying that a state of nature (no private\\n replacements, no government regulation) is better than government\\n regulation itself.\\n \\n and in my experience people who label themselves \\'green\\' (which does not\\n include everyone who loves trees and thinks smokestacks are ugly) is a\\n watermelon.\\n \\n \\n \\n \\n > -----original message-----\\n > from: fork-admin@xent.com [mailto:fork-admin@xent.com] on behalf of\\n geege\\n > schuman\\n > \\n > funny. i read it as green = red, as in accounting, as in fiscally\\n > irresponsible.  which do you think is the worse indictment -\\n > overregulation\\n > or overspending?  there are many (dickheads) who buy into the\\n > neo-conservative media\\'s (fox\\'s) definiton of \"liberal\" as \"one who\\n seeks\\n > to\\n > impose both.\"\\n \\n \\n',\n",
       " 'hehe sorry but if you hit caps lock twice the computer crashes?  theres one\\n ive never heard before... have you tryed dell support yet? i think dell\\n computers prefer redhat... (dell provide some computers pre-loaded with red\\n hat) i dont know for sure tho! so get someone elses opnion as well as\\n mine...\\n \\n -----original message-----\\n from: ilug-admin@linux.ie [mailto:ilug-admin@linux.ie]on behalf of peter\\n staunton\\n sent: 22 august 2002 19:58\\n to: ilug@linux.ie\\n subject: [ilug] newbie seeks advice - suse 7.2\\n \\n \\n folks,\\n \\n my first time posting - have a bit of unix experience, but am new to linux.\\n \\n \\n just got a new pc at home - dell box with windows xp. added a second hard\\n disk\\n for linux. partitioned the disk and have installed suse 7.2 from cd, which\\n went\\n fine except it didn\\'t pick up my monitor.\\n \\n i have a dell branded e151fpp 15\" lcd flat panel monitor and a nvidia\\n geforce4\\n ti4200 video card, both of which are probably too new to feature in suse\\'s\\n default\\n set. i downloaded a driver from the nvidia website and installed it using\\n rpm.\\n then i ran sax2 (as was recommended in some postings i found on the net),\\n but\\n it still doesn\\'t feature my video card in the available list. what next?\\n \\n another problem. i have a dell branded keyboard and if i hit caps-lock\\n twice,\\n the whole machine crashes (in linux, not windows) - even the on/off switch\\n is\\n inactive, leaving me to reach for the power cable instead.\\n \\n if anyone can help me in any way with these probs., i\\'d be really grateful -\\n i\\'ve searched the \\'net but have run out of ideas.\\n \\n or should i be going for a different version of linux such as redhat?\\n opinions\\n welcome.\\n \\n thanks a lot,\\n peter\\n \\n --\\n irish linux users\\' group: ilug@linux.ie\\n http://www.linux.ie/mailman/listinfo/ilug for (un)subscription information.\\n list maintainer: listmaster@linux.ie\\n \\n \\n -- \\n irish linux users\\' group: ilug@linux.ie\\n http://www.linux.ie/mailman/listinfo/ilug for (un)subscription information.\\n list maintainer: listmaster@linux.ie\\n \\n',\n",
       " \"url: http://diveintomark.org/archives/2002/10/09.html#five\\n date: 2002-10-09t10:25:09-05:00\\n \\n - _osnews.com_: red hat 8.0 for kde users (and newbies)[1]. \\n - _aaron swartz_: trip notes[2]. \\n - _sean palmer_: the semantic web in haiku[3]. \\n - _shelley powers_: the parable of the languages[4]. \\n - _heather hamilton_: you only get five[5]. (mira sorvino[6], portia de rossi\\n [7], stockard channing[8], jeri ryan[9] nigella lawson[10], and angelina jolie\\n [11]. d gave me her list but wouldn't let me post it. meh.) \\n \\n \\n \\n \\n \\n [1]  http://www.osnews.com/story.php?news_id=1890\\n [2]  http://www.aaronsw.com/weblog/000647\\n [3]  http://infomesh.net/2002/swhaiku/\\n [4]  http://weblog.burningbird.net/archives/000581.php\\n [5]  http://www.dooce.com/mtarchives/10_08_2002.html\\n [6]  http://www.elegantwomen.net/mirasorvino/009.html\\n [7]  http://www.safesearching.com/portiaderossi/gallery/\\n [8]  http://images.amazon.com/images/p/0792846486.01.lzzzzzzz.jpg\\n [9]  http://www.elegantwomen.net/jeriryan/003.html\\n [10] http://www.stylenetwork.com/shows/nigella/gallery/index.html\\n [11] http://www.elegantwomen.net/angelinajolie/009.html\\n \\n \\n\",\n",
       " 'http://www.hughes-family.org/bugzilla/show_bug.cgi?id=1006\\n \\n jm@jmason.org changed:\\n \\n            what    |removed                     |added\\n ----------------------------------------------------------------------------\\n              status|new                         |assigned\\n \\n \\n \\n ------- additional comments from jm@jmason.org  2002-10-03 13:29 -------\\n 1. use of $config is gradually being removed, thankfully.  i don\\'t want\\n to see any of that stuff in there if it acn be avoided, as different\\n perl versions jsut vary so much in that stuff.\\n \\n 2. perl has no concept of where the rules could be -- unless they\\'re in\\n the perl libdir (/usr/lib/perl5/site_perl/5.x.x/foo).  perl does not\\n know about the existence of /usr/share or /etc.  used to use /usr/lib/perl5\\n for storing rules, and it was actually *much worse* than it is now. so\\n we need an out-of-band way to tell sa where to find this stuff. that\\'s\\n the problem!\\n \\n 3. try \"perl makefile.pl < /dev/null\" to allow bots to build it.\\n \\n i think i might be missing some details of what you\\'re peeved about,\\n though... could you elaborate specifically?\\n \\n \\n \\n \\n ------- you are receiving this mail because: -------\\n you are the assignee for the bug, or are watching the assignee.\\n \\n \\n -------------------------------------------------------\\n this sf.net email is sponsored by:thinkgeek\\n welcome to geek heaven.\\n http://thinkgeek.com/sf\\n _______________________________________________\\n spamassassin-devel mailing list\\n spamassassin-devel@lists.sourceforge.net\\n https://lists.sourceforge.net/lists/listinfo/spamassassin-devel\\n \\n \\n',\n",
       " '------000000000000000000000\\n content-type: text/html;\\n \\tcharset=\"iso-8859-1\"\\n content-transfer-encoding: 7bit\\n \\n <body lang=en-us>\\n \\n <div class=section1>\\n \\n \\n <p class=msobodytext style=\\'text-align:justify\\'><b>consantly</b> being\\n bombarded by so-called free money-making systems that teases you with limited\\n information, and when its all said and done, blind-sides you by demanding your\\n money/credit card information upfront in some slick way,<b> after-the-fact</b>!\\n yes, i too was as skeptical about such offers and the internet in general with\\n all its hype, as you probably are. fortunate for me, my main business\\n slowed-down (<i>i have been self-employed all my life</i>), so i looked for\\n something to fit my lifestyle and some other way to assist me in paying my\\n bills, without working myself to death or loosing more money; then, this\\n proposal to try something new without any upfront investment (<i>great! because\\n i had none</i>) interested me to click on the link provided. and i dont regret\\n at all that i did! i am very happy, and happy enough to recommend it to you as\\n a system that is true to its word. i mean absolutely no upfront money. you join\\n only if (<i>when</i>) you make money. you also get to track the results of your\\n time and efforts instantly and updated daily! i especially liked this idea of\\n personal control with real-time, staying informed statistics.</p>\\n \\n <p class=msobodytext style=\\'text-align:justify\\'><b>this system is quite simply\\n the most logical, opened, and fair of any others that ive seen before. why?\\n because from the start, you get all the specific facts you need to seriously\\n consider if this is right for you. no teasing. no grand testimonies! no\\n kidding! just the facts! unlike in other programs that give you no idea of\\n their overall plan before first forking over your money/credit card; or worst\\n yet, joining and finding-out too late, after wasting valuable time trying to\\n figure them out, this system is straightforward and informative, providing you\\n with the two things you really must know: <u>whats it all about</u>? and <u>how\\n does it work</u>?. these are the ultimate deal makers or deal breakers that\\n need to be immediately disclosed, well before discovering that maybe you dont\\n want to do that; by then you are hooked and now locked into a frustrating\\n battle to try to get your money back! </b></p>\\n \\n <p class=msobodytext style=\\'text-align:justify\\'>i call this my platinum\\n choice because it stands alone as a true, superior deal that is totally\\n different from previously misleading, hook-first programs that promise lofty\\n mega-money jackpots, but really just want your money upfront to line their own\\n pockets! youve seen the headlines: <u>join free and make $10,000 every week\\n for life</u> yeah, right!</p>\\n \\n <p class=msobodytext style=\\'text-align:justify\\'>i did not make millions yet,\\n but the whole thing was launched just a few weeks ago and i am more than happy\\n with my earnings, so far. i must tell you, i wouldnt be able to do anything\\n without corporate help  which was unusually thorough, timely, and motivating. </p>\\n \\n <p class=msobodytext style=\\'text-align:justify\\'>you have to see this in action\\n for yourself and make up your own mind; just go to my site and fill out the\\n form as soon as you can. you will get your own site in a few minutes. then you\\n are ready to try whether you can make some decent money with this system and\\n the internets explosive potential - fully loaded with hi-tech software, free\\n corporate help, on-time members support and even protective safeguards! </p>\\n \\n <p class=msobodytext style=\\'text-align:justify\\'>get it now, and you can call me\\n at any time with questions. it really could help you like it is helping me to\\n finally be able to pay my bills, and keep my free time free. good luck!</p>\\n \\n <p class=msobodytext style=\\'text-align:justify\\'><a\\n href=\"http://www.mindupmerchants.com/default.asp?id=5581\">http://www.mindupmerchants.com/default.asp?id=5581</a></p>\\n \\n <p class=msobodytext style=\\'text-align:justify\\'>ben green, (775) 322-3323 </p>\\n \\n <p class=msobodytext>p.s.free pop3 email is ofered for members now!</p>\\n </div>\\n \\n </body>\\n \\n ------000000000000000000000--\\n',\n",
       " \"once upon a time, brian wrote :\\n \\n >    yeah, but i try to 'take it easy' on your server.  the golden rule of\\n >    the internet: when you find a free resource, don't piss'em off!  :)  i\\n >    really appreciate your work; you get done the things i wish i could,\\n >    and i respect that.\\n \\n don't worry too much : the day the server gets too busy, i'll cleanup and\\n publish the addresses of some mirrors, as many ftp mirrors exist (i'm aware\\n of at least 15), and even an apt one :-)\\n for now, the limit is far enough : when i unlocked the psyche iso images on\\n monday, the bandwidth usage on the current (ftp|http|rsync) freshrpms.net\\n server went up to 90mbps sustained, which is not bad as the server has a\\n 100mbps physical nic! of course, i'd get in trouble if it was always like\\n that, but the average used when no new red hat release is there is between\\n 2 and 4mbps, which my company tolerates, as i've convinced them it's a\\n useful return to the community providing us the great operating system all\\n our servers are running ;-)\\n \\n matthias\\n \\n -- \\n matthias saou                                world trade center\\n -------------                                edificio norte 4 planta\\n system and network engineer                  08039 barcelona, spain\\n electronic group interactive                 phone : +34 936 00 23 23\\n \\n _______________________________________________\\n rpm-list mailing list <rpm-list@freshrpms.net>\\n http://lists.freshrpms.net/mailman/listinfo/rpm-list\\n \\n \\n\",\n",
       " 'hi,\\n \\n i was inspired by a mode of operation supported by vmware. you can have a\\n base disk image shared by multiple virtual machine (vm) instances. that base\\n image is never altered by a vm instance. instead, each vm instance writes\\n changes to its own \"redo\" log. future hard disk reads from that vm instance\\n incorporate both the base image and the appropriate redo log to present the\\n current disk image for that specific virtual machine.\\n \\n this is described here (thanks to duane for providing this link on the\\n honeypots mailing list)\\n http://www.vmware.com/support/reference/common/disk_sharing.html\\n \\n could this basic concept be used to easily make self-fixing client/server\\n applications that efficiently and automatically recover from most attacks,\\n even before those attacks have been discovered? here is what i imagine.\\n \\n the physical architectures of most production client/server systems are\\n layered. for example, your basic web application might have a web server\\n running apache, connected to an application server running some j2ee or .net\\n business logic, connected to a database server for persistence. the only one\\n of these whose disk image really should evolve over time is the database\\n server, and even here you often put the static rdbms software on one\\n partition and the changeable datafiles on another partition. it is only the\\n partition with the volatile datafiles that must be allowed to change from\\n one boot to the next. other paritions may need to be writable for, say, swap\\n space, but these changes could be eliminated on each reboot.\\n \\n when someone cracks this system, they will probably change an image that\\n shouldn\\'t be changed. e.g., they might leverage a buffer overflow in iis or\\n apache to install a trojan or a backdoor on the more exposed web server. but\\n what if the web server ran off a base image, writing changes to a \"delta\" or\\n \"redo\" partition? and then what if every night it automatically erased the\\n redo partition and rebooted? the downtime involved for each machine would be\\n minimal, because it is only deleting data - rather than restoring from\\n backup. in a system with redundant web servers for load balancing or high\\n availability, this could be scheduled in a way such that the system is\\n always accessible. this base/redo partition concept could be implemented at\\n the same level as a feature of hardware raid, allowing for greater\\n performance, reliability, and hack resistance. this concept could also be\\n applied to the application servers, and even the database server partitions\\n (except for those partitions which contain the table data files, of course.)\\n \\n does anyone do this already? or is this a new concept? or has this concept\\n been discussed before and abandoned for some reasons that i don\\'t yet know?\\n i use the physical architecture of a basic web application as an example in\\n this post, but this concept could of course be applied to most server\\n systems. it would allow for the hardware-separation of volatile and\\n non-volatile disk images. it would be analogous to performing nightly\\n ghosting operations, only it would be more efficient and involve less (or\\n no) downtime.\\n \\n thanks for any opinions,\\n ben\\n \\n \\n']"
      ]
     },
     "execution_count": 6,
     "metadata": {},
     "output_type": "execute_result"
    }
   ],
   "source": [
    "list(original_training_data['email'].head(10))"
   ]
  },
  {
   "cell_type": "markdown",
   "metadata": {
    "nbgrader": {
     "grade": false,
     "grade_id": "cell-34476156ed73b800",
     "locked": true,
     "schema_version": 2,
     "solution": false
    }
   },
   "source": [
    "First, let's check if our data contains any missing values. We have filled in the cell below to print the number of NaN values in each column. If there are NaN values, we replace them with appropriate filler values (i.e., NaN values in the `subject` or `email` columns will be replaced with empty strings). Finally, we print the number of NaN values in each column after this modification to verify that there are no NaN values left.\n",
    "\n",
    "Note that while there are no NaN values in the `spam` column, we should be careful when replacing NaN labels. Doing so without consideration may introduce significant bias into our model when fitting."
   ]
  },
  {
   "cell_type": "code",
   "execution_count": 7,
   "metadata": {
    "ExecuteTime": {
     "end_time": "2019-04-03T20:17:42.203231Z",
     "start_time": "2019-04-03T20:17:42.185104Z"
    },
    "nbgrader": {
     "grade": false,
     "grade_id": "cell-b1fb39d9b651ca1b",
     "locked": false,
     "schema_version": 2,
     "solution": true
    }
   },
   "outputs": [
    {
     "name": "stdout",
     "output_type": "stream",
     "text": [
      "Before imputation:\n",
      "id         0\n",
      "subject    6\n",
      "email      0\n",
      "spam       0\n",
      "dtype: int64\n",
      "------------\n",
      "After imputation:\n",
      "id         0\n",
      "subject    0\n",
      "email      0\n",
      "spam       0\n",
      "dtype: int64\n"
     ]
    }
   ],
   "source": [
    "print('Before imputation:')\n",
    "print(original_training_data.isnull().sum())\n",
    "original_training_data = original_training_data.fillna('')\n",
    "print('------------')\n",
    "print('After imputation:')\n",
    "print(original_training_data.isnull().sum())"
   ]
  },
  {
   "cell_type": "markdown",
   "metadata": {
    "nbgrader": {
     "grade": false,
     "grade_id": "q1",
     "locked": true,
     "schema_version": 2,
     "solution": false
    }
   },
   "source": [
    "### Question 1\n",
    "\n",
    "In the cell below, we have printed the text of the `email` field for the first ham and the first spam email in the original training set."
   ]
  },
  {
   "cell_type": "code",
   "execution_count": 8,
   "metadata": {
    "ExecuteTime": {
     "end_time": "2019-04-03T20:17:42.247245Z",
     "start_time": "2019-04-03T20:17:42.228451Z"
    },
    "nbgrader": {
     "grade": false,
     "grade_id": "q1-answer",
     "locked": false,
     "schema_version": 2,
     "solution": true
    }
   },
   "outputs": [
    {
     "name": "stdout",
     "output_type": "stream",
     "text": [
      "url: http://boingboing.net/#85534171\n",
      " date: not supplied\n",
      " \n",
      " arts and letters daily, a wonderful and dense blog, has folded up its tent due \n",
      " to the bankruptcy of its parent company. a&l daily will be auctioned off by the \n",
      " receivers. link[1] discuss[2] (_thanks, misha!_)\n",
      " \n",
      " [1] http://www.aldaily.com/\n",
      " [2] http://www.quicktopic.com/boing/h/zlfterjnd6jf\n",
      " \n",
      " \n",
      "\n",
      "<html>\n",
      " <head>\n",
      " </head>\n",
      " <body>\n",
      " <font size=3d\"4\"><b> a man endowed with a 7-8\" hammer is simply<br>\n",
      "  better equipped than a man with a 5-6\"hammer. <br>\n",
      " <br>would you rather have<br>more than enough to get the job done or fall =\n",
      " short. it's totally up<br>to you. our methods are guaranteed to increase y=\n",
      " our size by 1-3\"<br> <a href=3d\"http://209.163.187.47/cgi-bin/index.php?10=\n",
      " 004\">come in here and see how</a>\n",
      " </body>\n",
      " </html>\n",
      " \n",
      " \n",
      " \n",
      "\n"
     ]
    }
   ],
   "source": [
    "first_ham = original_training_data.loc[original_training_data['spam'] == 0, 'email'].iloc[0]\n",
    "first_spam = original_training_data.loc[original_training_data['spam'] == 1, 'email'].iloc[0]\n",
    "print(first_ham)\n",
    "print(first_spam)"
   ]
  },
  {
   "cell_type": "markdown",
   "metadata": {
    "deletable": false,
    "editable": false
   },
   "source": [
    "<!-- BEGIN QUESTION -->\n",
    "\n",
    "Discuss one thing you notice that is different between the two emails that might relate to the identification of spam.\n",
    "\n",
    "<!--\n",
    "BEGIN QUESTION\n",
    "name: q1\n",
    "manual: True\n",
    "points: 2\n",
    "-->"
   ]
  },
  {
   "cell_type": "markdown",
   "metadata": {},
   "source": [
    "The format of the two emails is different. The spam emails is in html format and html tags attached to the email while the ham emails do not have anything. "
   ]
  },
  {
   "cell_type": "markdown",
   "metadata": {
    "nbgrader": {
     "grade": false,
     "grade_id": "cell-78513403ef52a957",
     "locked": true,
     "schema_version": 2,
     "solution": false
    }
   },
   "source": [
    "<!-- END QUESTION -->\n",
    "\n",
    "\n",
    "\n",
    "## Training-Validation Split\n",
    "The training data we downloaded is all the data we have available for both training models and **validating** the models that we train.  We therefore need to split the training data into separate training and validation datsets.  You will need this **validation data** to assess the performance of your classifier once you are finished training. Note that we set the seed (random_state) to 42. This will produce a pseudo-random sequence of random numbers that is the same for every student. **Do not modify this in the following questions, as our tests depend on this random seed.**"
   ]
  },
  {
   "cell_type": "code",
   "execution_count": 9,
   "metadata": {
    "ExecuteTime": {
     "end_time": "2019-04-03T20:17:42.317970Z",
     "start_time": "2019-04-03T20:17:42.294532Z"
    },
    "nbgrader": {
     "grade": false,
     "grade_id": "cell-873194ed3e686dfb",
     "locked": true,
     "schema_version": 2,
     "solution": false
    }
   },
   "outputs": [],
   "source": [
    "# This creates a 90/10 train-validation split on our labeled data\n",
    "\n",
    "from sklearn.model_selection import train_test_split\n",
    "\n",
    "train, val = train_test_split(original_training_data, test_size = 0.1, random_state = 42)"
   ]
  },
  {
   "cell_type": "code",
   "execution_count": 10,
   "metadata": {},
   "outputs": [
    {
     "data": {
      "text/html": [
       "<div>\n",
       "<style scoped>\n",
       "    .dataframe tbody tr th:only-of-type {\n",
       "        vertical-align: middle;\n",
       "    }\n",
       "\n",
       "    .dataframe tbody tr th {\n",
       "        vertical-align: top;\n",
       "    }\n",
       "\n",
       "    .dataframe thead th {\n",
       "        text-align: right;\n",
       "    }\n",
       "</style>\n",
       "<table border=\"1\" class=\"dataframe\">\n",
       "  <thead>\n",
       "    <tr style=\"text-align: right;\">\n",
       "      <th></th>\n",
       "      <th>id</th>\n",
       "      <th>subject</th>\n",
       "      <th>email</th>\n",
       "      <th>spam</th>\n",
       "    </tr>\n",
       "  </thead>\n",
       "  <tbody>\n",
       "    <tr>\n",
       "      <th>7657</th>\n",
       "      <td>7657</td>\n",
       "      <td>Subject: Patch to enable/disable log\\n</td>\n",
       "      <td>while i was playing with the past issues, it a...</td>\n",
       "      <td>0</td>\n",
       "    </tr>\n",
       "    <tr>\n",
       "      <th>6911</th>\n",
       "      <td>6911</td>\n",
       "      <td>Subject: When an engineer flaps his wings\\n</td>\n",
       "      <td>url: http://diveintomark.org/archives/2002/10/...</td>\n",
       "      <td>0</td>\n",
       "    </tr>\n",
       "    <tr>\n",
       "      <th>6074</th>\n",
       "      <td>6074</td>\n",
       "      <td>Subject: Re: [Razor-users] razor plugins for m...</td>\n",
       "      <td>no, please post a link!\\n \\n fox\\n ----- origi...</td>\n",
       "      <td>0</td>\n",
       "    </tr>\n",
       "    <tr>\n",
       "      <th>4376</th>\n",
       "      <td>4376</td>\n",
       "      <td>Subject: NYTimes.com Article: Stop Those Press...</td>\n",
       "      <td>this article from nytimes.com \\n has been sent...</td>\n",
       "      <td>0</td>\n",
       "    </tr>\n",
       "    <tr>\n",
       "      <th>5766</th>\n",
       "      <td>5766</td>\n",
       "      <td>Subject: What's facing FBI's new CIO? (Tech Up...</td>\n",
       "      <td>&lt;html&gt;\\n &lt;head&gt;\\n &lt;title&gt;tech update today&lt;/ti...</td>\n",
       "      <td>0</td>\n",
       "    </tr>\n",
       "  </tbody>\n",
       "</table>\n",
       "</div>"
      ],
      "text/plain": [
       "        id                                            subject  \\\n",
       "7657  7657             Subject: Patch to enable/disable log\\n   \n",
       "6911  6911        Subject: When an engineer flaps his wings\\n   \n",
       "6074  6074  Subject: Re: [Razor-users] razor plugins for m...   \n",
       "4376  4376  Subject: NYTimes.com Article: Stop Those Press...   \n",
       "5766  5766  Subject: What's facing FBI's new CIO? (Tech Up...   \n",
       "\n",
       "                                                  email  spam  \n",
       "7657  while i was playing with the past issues, it a...     0  \n",
       "6911  url: http://diveintomark.org/archives/2002/10/...     0  \n",
       "6074  no, please post a link!\\n \\n fox\\n ----- origi...     0  \n",
       "4376  this article from nytimes.com \\n has been sent...     0  \n",
       "5766  <html>\\n <head>\\n <title>tech update today</ti...     0  "
      ]
     },
     "execution_count": 10,
     "metadata": {},
     "output_type": "execute_result"
    }
   ],
   "source": [
    "train.head()"
   ]
  },
  {
   "cell_type": "markdown",
   "metadata": {
    "nbgrader": {
     "grade": false,
     "grade_id": "feat-eng",
     "locked": true,
     "schema_version": 2,
     "solution": false
    }
   },
   "source": [
    "# Basic Feature Engineering\n",
    "\n",
    "We would like to take the text of an email and predict whether the email is ham or spam. This is a *classification* problem, so we can use logistic regression to train a classifier. Recall that to train a logistic regression model we need a numeric feature matrix $X$ and a vector of corresponding binary labels $y$.  Unfortunately, our data are text, not numbers. To address this, we can create numeric features derived from the email text and use those features for logistic regression.\n",
    "\n",
    "Each row of $X$ is an email. Each column of $X$ contains one feature for all the emails. We'll guide you through creating a simple feature, and you'll create more interesting ones as you try to increase the accuracy of your model."
   ]
  },
  {
   "cell_type": "markdown",
   "metadata": {
    "deletable": false,
    "editable": false,
    "nbgrader": {
     "grade": false,
     "grade_id": "q2",
     "locked": true,
     "schema_version": 2,
     "solution": false
    }
   },
   "source": [
    "### Question 2\n",
    "\n",
    "Create a function called `words_in_texts` that takes in a list of `words` and a pandas Series of email `texts`. It should output a 2-dimensional NumPy array containing one row for each email text. The row should contain either a 0 or a 1 for each word in the list: 0 if the word doesn't appear in the text and 1 if the word does. For example:\n",
    "\n",
    "```\n",
    ">>> words_in_texts(['hello', 'bye', 'world'], \n",
    "                   pd.Series(['hello', 'hello worldhello']))\n",
    "\n",
    "array([[1, 0, 0],\n",
    "       [1, 0, 1]])\n",
    "```\n",
    "\n",
    "*The provided tests make sure that your function works correctly, so that you can use it for future questions.*\n",
    "\n",
    "<!--\n",
    "BEGIN QUESTION\n",
    "name: q2\n",
    "points: 3\n",
    "-->"
   ]
  },
  {
   "cell_type": "code",
   "execution_count": 11,
   "metadata": {},
   "outputs": [
    {
     "data": {
      "text/plain": [
       "3"
      ]
     },
     "execution_count": 11,
     "metadata": {},
     "output_type": "execute_result"
    }
   ],
   "source": [
    "len(['hello', 'bye', 'world'])"
   ]
  },
  {
   "cell_type": "code",
   "execution_count": 12,
   "metadata": {
    "ExecuteTime": {
     "end_time": "2019-04-03T20:17:42.337281Z",
     "start_time": "2019-04-03T20:17:42.320567Z"
    },
    "nbgrader": {
     "grade": false,
     "grade_id": "q2-answer",
     "locked": false,
     "schema_version": 2,
     "solution": true
    },
    "tags": [
     "student"
    ]
   },
   "outputs": [],
   "source": [
    "def words_in_texts(words, texts):\n",
    "    '''\n",
    "    Args:\n",
    "        words (list): words to find\n",
    "        texts (Series): strings to search in\n",
    "    \n",
    "    Returns:\n",
    "        NumPy array of 0s and 1s with shape (n, p) where n is the\n",
    "        number of texts and p is the number of words.\n",
    "    '''\n",
    "    #Tried to do texts[count], got error with 3rd question\n",
    "    indicator_array = []\n",
    "    count = 0\n",
    "    maxe = len(texts)\n",
    "    for text in texts:\n",
    "        sample_array = []\n",
    "        for word in words:\n",
    "            if word in text:\n",
    "                sample_array.append(1)\n",
    "            else:\n",
    "                sample_array.append(0)\n",
    "        indicator_array.append(sample_array)\n",
    "        count = count + 1\n",
    "    return indicator_array\n"
   ]
  },
  {
   "cell_type": "code",
   "execution_count": 13,
   "metadata": {
    "deletable": false,
    "editable": false
   },
   "outputs": [
    {
     "data": {
      "text/html": [
       "<p><strong><pre style='display: inline;'>q2</pre></strong> passed!</p>"
      ],
      "text/plain": [
       "q2 results: All test cases passed!"
      ]
     },
     "execution_count": 13,
     "metadata": {},
     "output_type": "execute_result"
    }
   ],
   "source": [
    "grader.check(\"q2\")"
   ]
  },
  {
   "cell_type": "markdown",
   "metadata": {
    "nbgrader": {
     "grade": false,
     "grade_id": "eda",
     "locked": true,
     "schema_version": 2,
     "solution": false
    }
   },
   "source": [
    "# Basic EDA\n",
    "\n",
    "We need to identify some features that allow us to distinguish spam emails from ham emails. One idea is to compare the distribution of a single feature in spam emails to the distribution of the same feature in ham emails. If the feature is itself a binary indicator, such as whether a certain word occurs in the text, this amounts to comparing the proportion of spam emails with the word to the proportion of ham emails with the word.\n"
   ]
  },
  {
   "cell_type": "markdown",
   "metadata": {
    "nbgrader": {
     "grade": false,
     "grade_id": "q3a",
     "locked": true,
     "schema_version": 2,
     "solution": false
    }
   },
   "source": [
    "The following plot (which was created using `sns.barplot`) compares the proportion of emails in each class containing a particular set of words. \n",
    "\n",
    "![training conditional proportions](images/training_conditional_proportions.png)\n",
    "\n",
    "You can use DataFrame's `.melt` method to \"unpivot\" a DataFrame. See the following code cell for an example."
   ]
  },
  {
   "cell_type": "code",
   "execution_count": 14,
   "metadata": {
    "ExecuteTime": {
     "end_time": "2019-04-03T20:17:42.428419Z",
     "start_time": "2019-04-03T20:17:42.386697Z"
    }
   },
   "outputs": [
    {
     "data": {
      "text/markdown": [
       "> Our Original DataFrame has a `type` column and some columns corresponding to words. You can think of each row as a sentence, and the value of 1 or 0 indicates the number of occurences of the word in this sentence."
      ],
      "text/plain": [
       "<IPython.core.display.Markdown object>"
      ]
     },
     "metadata": {},
     "output_type": "display_data"
    },
    {
     "data": {
      "text/html": [
       "<div>\n",
       "<style scoped>\n",
       "    .dataframe tbody tr th:only-of-type {\n",
       "        vertical-align: middle;\n",
       "    }\n",
       "\n",
       "    .dataframe tbody tr th {\n",
       "        vertical-align: top;\n",
       "    }\n",
       "\n",
       "    .dataframe thead th {\n",
       "        text-align: right;\n",
       "    }\n",
       "</style>\n",
       "<table border=\"1\" class=\"dataframe\">\n",
       "  <thead>\n",
       "    <tr style=\"text-align: right;\">\n",
       "      <th></th>\n",
       "      <th>word_1</th>\n",
       "      <th>word_2</th>\n",
       "      <th>type</th>\n",
       "    </tr>\n",
       "  </thead>\n",
       "  <tbody>\n",
       "    <tr>\n",
       "      <th>0</th>\n",
       "      <td>1</td>\n",
       "      <td>0</td>\n",
       "      <td>spam</td>\n",
       "    </tr>\n",
       "    <tr>\n",
       "      <th>1</th>\n",
       "      <td>0</td>\n",
       "      <td>1</td>\n",
       "      <td>ham</td>\n",
       "    </tr>\n",
       "    <tr>\n",
       "      <th>2</th>\n",
       "      <td>1</td>\n",
       "      <td>0</td>\n",
       "      <td>ham</td>\n",
       "    </tr>\n",
       "    <tr>\n",
       "      <th>3</th>\n",
       "      <td>0</td>\n",
       "      <td>1</td>\n",
       "      <td>ham</td>\n",
       "    </tr>\n",
       "  </tbody>\n",
       "</table>\n",
       "</div>"
      ],
      "text/plain": [
       "   word_1  word_2  type\n",
       "0       1       0  spam\n",
       "1       0       1   ham\n",
       "2       1       0   ham\n",
       "3       0       1   ham"
      ]
     },
     "metadata": {},
     "output_type": "display_data"
    },
    {
     "data": {
      "text/markdown": [
       "> `melt` will turn columns into entries in a variable column. Notice how `word_1` and `word_2` become entries in `variable`; their values are stored in the value column."
      ],
      "text/plain": [
       "<IPython.core.display.Markdown object>"
      ]
     },
     "metadata": {},
     "output_type": "display_data"
    },
    {
     "data": {
      "text/html": [
       "<div>\n",
       "<style scoped>\n",
       "    .dataframe tbody tr th:only-of-type {\n",
       "        vertical-align: middle;\n",
       "    }\n",
       "\n",
       "    .dataframe tbody tr th {\n",
       "        vertical-align: top;\n",
       "    }\n",
       "\n",
       "    .dataframe thead th {\n",
       "        text-align: right;\n",
       "    }\n",
       "</style>\n",
       "<table border=\"1\" class=\"dataframe\">\n",
       "  <thead>\n",
       "    <tr style=\"text-align: right;\">\n",
       "      <th></th>\n",
       "      <th>type</th>\n",
       "      <th>variable</th>\n",
       "      <th>value</th>\n",
       "    </tr>\n",
       "  </thead>\n",
       "  <tbody>\n",
       "    <tr>\n",
       "      <th>0</th>\n",
       "      <td>spam</td>\n",
       "      <td>word_1</td>\n",
       "      <td>1</td>\n",
       "    </tr>\n",
       "    <tr>\n",
       "      <th>1</th>\n",
       "      <td>ham</td>\n",
       "      <td>word_1</td>\n",
       "      <td>0</td>\n",
       "    </tr>\n",
       "    <tr>\n",
       "      <th>2</th>\n",
       "      <td>ham</td>\n",
       "      <td>word_1</td>\n",
       "      <td>1</td>\n",
       "    </tr>\n",
       "    <tr>\n",
       "      <th>3</th>\n",
       "      <td>ham</td>\n",
       "      <td>word_1</td>\n",
       "      <td>0</td>\n",
       "    </tr>\n",
       "    <tr>\n",
       "      <th>4</th>\n",
       "      <td>spam</td>\n",
       "      <td>word_2</td>\n",
       "      <td>0</td>\n",
       "    </tr>\n",
       "    <tr>\n",
       "      <th>5</th>\n",
       "      <td>ham</td>\n",
       "      <td>word_2</td>\n",
       "      <td>1</td>\n",
       "    </tr>\n",
       "    <tr>\n",
       "      <th>6</th>\n",
       "      <td>ham</td>\n",
       "      <td>word_2</td>\n",
       "      <td>0</td>\n",
       "    </tr>\n",
       "    <tr>\n",
       "      <th>7</th>\n",
       "      <td>ham</td>\n",
       "      <td>word_2</td>\n",
       "      <td>1</td>\n",
       "    </tr>\n",
       "  </tbody>\n",
       "</table>\n",
       "</div>"
      ],
      "text/plain": [
       "   type variable  value\n",
       "0  spam   word_1      1\n",
       "1   ham   word_1      0\n",
       "2   ham   word_1      1\n",
       "3   ham   word_1      0\n",
       "4  spam   word_2      0\n",
       "5   ham   word_2      1\n",
       "6   ham   word_2      0\n",
       "7   ham   word_2      1"
      ]
     },
     "metadata": {},
     "output_type": "display_data"
    }
   ],
   "source": [
    "from IPython.display import display, Markdown\n",
    "df = pd.DataFrame({\n",
    "    'word_1': [1, 0, 1, 0],\n",
    "    'word_2': [0, 1, 0, 1],\n",
    "    'type': ['spam', 'ham', 'ham', 'ham']\n",
    "})\n",
    "display(Markdown(\"> Our Original DataFrame has a `type` column and some columns corresponding to words. You can think of each row as a sentence, and the value of 1 or 0 indicates the number of occurences of the word in this sentence.\"))\n",
    "display(df);\n",
    "display(Markdown(\"> `melt` will turn columns into entries in a variable column. Notice how `word_1` and `word_2` become entries in `variable`; their values are stored in the value column.\"))\n",
    "display(df.melt(\"type\"))"
   ]
  },
  {
   "cell_type": "markdown",
   "metadata": {
    "deletable": false,
    "editable": false
   },
   "source": [
    "<!-- BEGIN QUESTION -->\n",
    "\n",
    "### Question 3\n",
    "\n",
    "Create a bar chart like the one above comparing the proportion of spam and ham emails containing certain words. Choose a set of words that are different from the ones above, but also have different proportions for the two classes. Make sure to only consider emails from `train`.\n",
    "\n",
    "<!--\n",
    "BEGIN QUESTION\n",
    "name: q3\n",
    "manual: True\n",
    "format: image\n",
    "points: 3\n",
    "-->"
   ]
  },
  {
   "cell_type": "code",
   "execution_count": 15,
   "metadata": {
    "ExecuteTime": {
     "end_time": "2019-04-03T20:17:43.145246Z",
     "start_time": "2019-04-03T20:17:42.430406Z"
    },
    "nbgrader": {
     "grade": true,
     "grade_id": "q3a-answer",
     "locked": false,
     "points": 2,
     "schema_version": 2,
     "solution": true
    }
   },
   "outputs": [
    {
     "data": {
      "image/png": "[encoded data removed]",
      "text/plain": [
       "<Figure size 864x864 with 1 Axes>"
      ]
     },
     "metadata": {},
     "output_type": "display_data"
    }
   ],
   "source": [
    "#@source https://stackoverflow.com/questions/14270391/python-matplotlib-multiple-bars/14270539\n",
    "train = train.reset_index(drop=True) # We must do this in order to preserve the ordering of emails to labels for words_in_texts\n",
    "test_words = ['product','free','offers','profits','promotion','buy']\n",
    "spam_stuff = train[train['spam'] == 1]['email']\n",
    "non_spam = train[train['spam'] == 0]['email']\n",
    "find_spam = words_in_texts(test_words, spam_stuff)\n",
    "find_normal = words_in_texts(test_words, non_spam)\n",
    "\n",
    "def sume(arr):   \n",
    "      sumt = 0\n",
    "      index = 0\n",
    "      while (index < len(arr)):\n",
    "            sumt += arr[index];\n",
    "            index += 1\n",
    "      return sumt;\n",
    "\n",
    "find_proportion_spam = np.sum(find_spam,axis=0)\n",
    "find_proportion_normal = np.sum(find_normal,axis=0)\n",
    "find_total_spam = len(spam_stuff)\n",
    "find_total_normal = len(non_spam)\n",
    "\n",
    "widthe = 0.35\n",
    "widthy = 0.35\n",
    "f, ax = plt.subplots(figsize=(12,12))\n",
    "xe = np.arange(len(test_words))\n",
    "plt.bar(xe - 0.2,find_proportion_normal/find_total_normal,width=0.35,label='Ham');\n",
    "plt.bar(xe + 0.2,find_proportion_spam/find_total_spam,width=0.35,label='Spam');\n",
    "\n",
    "plt.legend();\n",
    "plt.xticks(xe, test_words)\n",
    "plt.xlabel('Words');\n",
    "plt.ylabel('Proportion of Emails');\n",
    "plt.title('Frequency of Words in Spam/Ham Emails');\n",
    "plt.xticks(size = 20)\n",
    "plt.show();"
   ]
  },
  {
   "cell_type": "markdown",
   "metadata": {
    "nbgrader": {
     "grade": false,
     "grade_id": "q3b",
     "locked": true,
     "schema_version": 2,
     "solution": false
    }
   },
   "source": [
    "<!-- END QUESTION -->\n",
    "\n",
    "\n",
    "\n",
    "When the feature is binary, it makes sense to compare its proportions across classes (as in the previous question). Otherwise, if the feature can take on numeric values, we can compare the distributions of these values for different classes. "
   ]
  },
  {
   "cell_type": "markdown",
   "metadata": {
    "nbgrader": {
     "grade": false,
     "grade_id": "classification",
     "locked": true,
     "schema_version": 2,
     "solution": false
    }
   },
   "source": [
    "# Basic Classification\n",
    "\n",
    "Notice that the output of `words_in_texts(words, train['email'])` is a numeric matrix containing features for each email. This means we can use it directly to train a classifier!"
   ]
  },
  {
   "cell_type": "markdown",
   "metadata": {
    "deletable": false,
    "editable": false,
    "nbgrader": {
     "grade": false,
     "grade_id": "q4",
     "locked": true,
     "schema_version": 2,
     "solution": false
    }
   },
   "source": [
    "### Question 4\n",
    "\n",
    "We've given you 5 words that might be useful as features to distinguish spam/ham emails. Use these words as well as the `train` DataFrame to create two NumPy arrays: `X_train` and `Y_train`.\n",
    "\n",
    "`X_train` should be a matrix of 0s and 1s created by using your `words_in_texts` function on all the emails in the training set.\n",
    "\n",
    "`Y_train` should be a vector of the correct labels for each email in the training set.\n",
    "\n",
    "*The provided tests check that the dimensions of your feature matrix (X) are correct, and that your features and labels are binary (i.e. consists of only 0's and 1's). It does not check that your function is correct; that was verified in a previous question.*\n",
    "<!--\n",
    "BEGIN QUESTION\n",
    "name: q4\n",
    "points: 2\n",
    "-->"
   ]
  },
  {
   "cell_type": "code",
   "execution_count": 16,
   "metadata": {
    "ExecuteTime": {
     "end_time": "2019-04-03T20:17:43.726012Z",
     "start_time": "2019-04-03T20:17:43.498088Z"
    },
    "nbgrader": {
     "grade": false,
     "grade_id": "q4-answer",
     "locked": false,
     "schema_version": 2,
     "solution": true
    },
    "tags": [
     "student"
    ]
   },
   "outputs": [
    {
     "data": {
      "text/plain": [
       "(array([[0, 0, 0, 0, 0],\n",
       "        [0, 0, 0, 0, 0],\n",
       "        [0, 0, 0, 0, 0],\n",
       "        [0, 0, 0, 0, 0],\n",
       "        [0, 0, 0, 1, 0]]),\n",
       " 0    0\n",
       " 1    0\n",
       " 2    0\n",
       " 3    0\n",
       " 4    0\n",
       " Name: spam, dtype: int64)"
      ]
     },
     "execution_count": 16,
     "metadata": {},
     "output_type": "execute_result"
    }
   ],
   "source": [
    "#@source https://stackoverflow.com/questions/21015674/list-object-has-no-attribute-shape\n",
    "some_words = ['drug', 'bank', 'prescription', 'memo', 'private']\n",
    "\n",
    "X_train = np.array(words_in_texts(some_words,train['email']))\n",
    "Y_train = train['spam']\n",
    "\n",
    "X_train[:5], Y_train[:5]"
   ]
  },
  {
   "cell_type": "code",
   "execution_count": 17,
   "metadata": {
    "deletable": false,
    "editable": false
   },
   "outputs": [
    {
     "data": {
      "text/html": [
       "<p><strong><pre style='display: inline;'>q4</pre></strong> passed!</p>"
      ],
      "text/plain": [
       "q4 results: All test cases passed!"
      ]
     },
     "execution_count": 17,
     "metadata": {},
     "output_type": "execute_result"
    }
   ],
   "source": [
    "grader.check(\"q4\")"
   ]
  },
  {
   "cell_type": "markdown",
   "metadata": {
    "deletable": false,
    "editable": false,
    "nbgrader": {
     "grade": false,
     "grade_id": "q5",
     "locked": true,
     "schema_version": 2,
     "solution": false
    }
   },
   "source": [
    "### Question 5\n",
    "\n",
    "Now that we have matrices, we can build a model with `scikit-learn`! Using the [`LogisticRegression`](http://scikit-learn.org/stable/modules/generated/sklearn.linear_model.LogisticRegression.html) classifier, train a logistic regression model using `X_train` and `Y_train`. Then, output the model's training accuracy below. You should get an accuracy of around $0.75$\n",
    "\n",
    "*The provided test checks that you initialized your logistic regression model correctly.*\n",
    "\n",
    "<!--\n",
    "BEGIN QUESTION\n",
    "name: q5\n",
    "points: 2\n",
    "-->"
   ]
  },
  {
   "cell_type": "code",
   "execution_count": 18,
   "metadata": {
    "ExecuteTime": {
     "end_time": "2019-04-03T20:17:44.593918Z",
     "start_time": "2019-04-03T20:17:43.783872Z"
    },
    "nbgrader": {
     "grade": false,
     "grade_id": "q5-answer",
     "locked": false,
     "schema_version": 2,
     "solution": true
    },
    "tags": [
     "student"
    ]
   },
   "outputs": [
    {
     "name": "stdout",
     "output_type": "stream",
     "text": [
      "Training Accuracy:  0.7576201251164648\n"
     ]
    }
   ],
   "source": [
    "from sklearn.linear_model import LogisticRegression\n",
    "\n",
    "model = LogisticRegression(solver='lbfgs')\n",
    "model.fit(X_train,Y_train)\n",
    "\n",
    "training_accuracy = model.score(X_train,Y_train)\n",
    "print(\"Training Accuracy: \", training_accuracy)"
   ]
  },
  {
   "cell_type": "code",
   "execution_count": 19,
   "metadata": {
    "deletable": false,
    "editable": false
   },
   "outputs": [
    {
     "data": {
      "text/html": [
       "<p><strong><pre style='display: inline;'>q5</pre></strong> passed!</p>"
      ],
      "text/plain": [
       "q5 results: All test cases passed!"
      ]
     },
     "execution_count": 19,
     "metadata": {},
     "output_type": "execute_result"
    }
   ],
   "source": [
    "grader.check(\"q5\")"
   ]
  },
  {
   "cell_type": "markdown",
   "metadata": {},
   "source": [
    "## Evaluating Classifiers"
   ]
  },
  {
   "cell_type": "markdown",
   "metadata": {},
   "source": [
    "That doesn't seem too shabby! But the classifier you made above isn't as good as the accuracy would make you believe. First, we are evaluating accuracy on the training set, which may provide a misleading accuracy measure. Accuracy on the training set doesn't always translate to accuracy in the real world (on the test set). In future parts of this analysis, we will hold out some of our data for model validation and comparison.\n",
    "\n",
    "Presumably, our classifier will be used for **filtering**, i.e. preventing messages labeled `spam` from reaching someone's inbox. There are two kinds of errors we can make:\n",
    "- False positive (FP): a ham email gets flagged as spam and filtered out of the inbox.\n",
    "- False negative (FN): a spam email gets mislabeled as ham and ends up in the inbox.\n",
    "\n",
    "To be clear, we label spam emails as 1 and ham emails as 0. These definitions depend both on the true labels and the predicted labels. False positives and false negatives may be of differing importance, leading us to consider more ways of evaluating a classifier, in addition to overall accuracy:\n",
    "\n",
    "**Precision** measures the proportion $\\frac{\\text{TP}}{\\text{TP} + \\text{FP}}$ of emails flagged as spam that are actually spam.\n",
    "\n",
    "**Recall** measures the proportion $\\frac{\\text{TP}}{\\text{TP} + \\text{FN}}$ of spam emails that were correctly flagged as spam. \n",
    "\n",
    "**False-alarm rate** measures the proportion $\\frac{\\text{FP}}{\\text{FP} + \\text{TN}}$ of ham emails that were incorrectly flagged as spam. \n",
    "\n",
    "The two graphics below may help you understand precision and recall visually:\n",
    "\n",
    "<img src=\"https://upload.wikimedia.org/wikipedia/commons/thumb/2/26/Precisionrecall.svg/700px-Precisionrecall.svg.png\" width=\"500px\">\n",
    "\n",
    "Note that a true positive (TP) is a spam email that is classified as spam, and a true negative (TN) is a ham email that is classified as ham."
   ]
  },
  {
   "cell_type": "markdown",
   "metadata": {
    "deletable": false,
    "editable": false,
    "nbgrader": {
     "grade": false,
     "grade_id": "q6",
     "locked": true,
     "schema_version": 2,
     "solution": false
    }
   },
   "source": [
    "### Question 6a\n",
    "\n",
    "Suppose we have a classifier `zero_predictor` that always predicts 0 (never predicts positive). How many false positives and false negatives would this classifier have if it were evaluated on the training set and its results were compared to `Y_train`? Fill in the variables below (feel free to hard code your answers for this part):\n",
    "\n",
    "*Tests in Question 6 only check that you have assigned appropriate types of values to each response variable, but do not check that your answers are correct.*\n",
    "\n",
    "<!--\n",
    "BEGIN QUESTION\n",
    "name: q6a\n",
    "points: 1\n",
    "-->"
   ]
  },
  {
   "cell_type": "code",
   "execution_count": 20,
   "metadata": {
    "ExecuteTime": {
     "end_time": "2019-04-03T20:20:13.853633Z",
     "start_time": "2019-04-03T20:20:13.825724Z"
    },
    "nbgrader": {
     "grade": false,
     "grade_id": "q6a-answer",
     "locked": false,
     "schema_version": 2,
     "solution": true
    }
   },
   "outputs": [
    {
     "data": {
      "text/plain": [
       "(0, 1918)"
      ]
     },
     "execution_count": 20,
     "metadata": {},
     "output_type": "execute_result"
    }
   ],
   "source": [
    "zero_predictor_fp = 0\n",
    "zero_predictor_fn = sum(Y_train==1)\n",
    "zero_predictor_fp, zero_predictor_fn"
   ]
  },
  {
   "cell_type": "code",
   "execution_count": 21,
   "metadata": {
    "deletable": false,
    "editable": false
   },
   "outputs": [
    {
     "data": {
      "text/html": [
       "<p><strong><pre style='display: inline;'>q6a</pre></strong> passed!</p>"
      ],
      "text/plain": [
       "q6a results: All test cases passed!"
      ]
     },
     "execution_count": 21,
     "metadata": {},
     "output_type": "execute_result"
    }
   ],
   "source": [
    "grader.check(\"q6a\")"
   ]
  },
  {
   "cell_type": "markdown",
   "metadata": {
    "deletable": false,
    "editable": false
   },
   "source": [
    "### Question 6b\n",
    "\n",
    "What is the accuracy and recall of `zero_predictor` (classifies every email as ham) on the training set? Do **NOT** use any `sklearn` functions.\n",
    "\n",
    "<!--\n",
    "BEGIN QUESTION\n",
    "name: q6b\n",
    "points: 1\n",
    "-->"
   ]
  },
  {
   "cell_type": "code",
   "execution_count": 22,
   "metadata": {
    "ExecuteTime": {
     "end_time": "2019-04-03T20:23:21.553134Z",
     "start_time": "2019-04-03T20:23:21.548219Z"
    }
   },
   "outputs": [
    {
     "data": {
      "text/plain": [
       "(0.7447091707706642, 0)"
      ]
     },
     "execution_count": 22,
     "metadata": {},
     "output_type": "execute_result"
    }
   ],
   "source": [
    "zero_predictor_acc = np.mean(Y_train==0)\n",
    "zero_predictor_recall = 0\n",
    "zero_predictor_acc, zero_predictor_recall"
   ]
  },
  {
   "cell_type": "code",
   "execution_count": 23,
   "metadata": {
    "deletable": false,
    "editable": false
   },
   "outputs": [
    {
     "data": {
      "text/html": [
       "<p><strong><pre style='display: inline;'>q6b</pre></strong> passed!</p>"
      ],
      "text/plain": [
       "q6b results: All test cases passed!"
      ]
     },
     "execution_count": 23,
     "metadata": {},
     "output_type": "execute_result"
    }
   ],
   "source": [
    "grader.check(\"q6b\")"
   ]
  },
  {
   "cell_type": "markdown",
   "metadata": {
    "deletable": false,
    "editable": false
   },
   "source": [
    "<!-- BEGIN QUESTION -->\n",
    "\n",
    "### Question 6c\n",
    "\n",
    "Comment on the results from 6a and 6b. For **each** of FP, FN, accuracy, and recall, briefly explain why we see the result that we do.\n",
    "\n",
    "<!--\n",
    "BEGIN QUESTION\n",
    "name: q6c\n",
    "manual: True\n",
    "points: 2\n",
    "-->"
   ]
  },
  {
   "cell_type": "markdown",
   "metadata": {},
   "source": [
    "There are no false positives because nothing is labeled spam. Every spam email is mislabeled as ham, so the number of false negatives is equal to the number of spam emails in the training data. The classifier correctly labels 74.47% of observations in the training data. The classifier recalls none (0%) of the spam observations."
   ]
  },
  {
   "cell_type": "markdown",
   "metadata": {
    "deletable": false,
    "editable": false
   },
   "source": [
    "<!-- END QUESTION -->\n",
    "\n",
    "### Question 6d\n",
    "\n",
    "Compute the precision, recall, and false-alarm rate of the `LogisticRegression` classifier created and trained in Question 5. Do **NOT** use any `sklearn` functions, with the exception of the `.predict` method of your model object.\n",
    "\n",
    "<!--\n",
    "BEGIN QUESTION\n",
    "name: q6d\n",
    "points: 2\n",
    "-->"
   ]
  },
  {
   "cell_type": "code",
   "execution_count": 24,
   "metadata": {
    "ExecuteTime": {
     "end_time": "2019-04-03T20:37:54.875265Z",
     "start_time": "2019-04-03T20:37:54.720667Z"
    }
   },
   "outputs": [],
   "source": [
    "Y_train_hat = model.predict(X_train)\n",
    "TP = sum((Y_train_hat == Y_train) & (Y_train_hat == 1))\n",
    "TN = sum((Y_train_hat == Y_train) & (Y_train_hat == 0))\n",
    "FP = sum((Y_train_hat != Y_train) & (Y_train_hat == 1))\n",
    "FN = sum((Y_train_hat != Y_train) & (Y_train_hat == 0))\n",
    "logistic_predictor_precision = TP / (TP + FP) \n",
    "logistic_predictor_recall = TP / (TP + FN) \n",
    "logistic_predictor_far =  FP / (FP + TN)"
   ]
  },
  {
   "cell_type": "code",
   "execution_count": 25,
   "metadata": {
    "deletable": false,
    "editable": false
   },
   "outputs": [
    {
     "data": {
      "text/html": [
       "<p><strong><pre style='display: inline;'>q6d</pre></strong> passed!</p>"
      ],
      "text/plain": [
       "q6d results: All test cases passed!"
      ]
     },
     "execution_count": 25,
     "metadata": {},
     "output_type": "execute_result"
    }
   ],
   "source": [
    "grader.check(\"q6d\")"
   ]
  },
  {
   "cell_type": "markdown",
   "metadata": {
    "deletable": false,
    "editable": false
   },
   "source": [
    "<!-- BEGIN QUESTION -->\n",
    "\n",
    "### Question 6e\n",
    "\n",
    "Are there more false positives or false negatives when using the logistic regression classifier from Question 5?\n",
    "\n",
    "<!--\n",
    "BEGIN QUESTION\n",
    "name: q6e\n",
    "manual: True\n",
    "points: 1\n",
    "-->"
   ]
  },
  {
   "cell_type": "markdown",
   "metadata": {},
   "source": [
    "There are more false negatives, which is 1699, compared to the number of false positives 122."
   ]
  },
  {
   "cell_type": "markdown",
   "metadata": {
    "deletable": false,
    "editable": false
   },
   "source": [
    "<!-- END QUESTION -->\n",
    "\n",
    "<!-- BEGIN QUESTION -->\n",
    "\n",
    "### Question 6f\n",
    "\n",
    "1. Our logistic regression classifier got 75.76% prediction accuracy (number of correct predictions / total). How does this compare with predicting 0 for every email?\n",
    "1. Given the word features we gave you above, name one reason this classifier is performing poorly. Hint: Think about how prevalent these words are in the email set.\n",
    "1. Which of these two classifiers would you prefer for a spam filter and why? Describe your reasoning and relate it to at least one of the evaluation metrics you have computed so far.\n",
    "\n",
    "<!--\n",
    "BEGIN QUESTION\n",
    "name: q6f\n",
    "manual: True\n",
    "points: 3\n",
    "-->"
   ]
  },
  {
   "cell_type": "markdown",
   "metadata": {},
   "source": [
    "An accuracy of about 75% only means we are doing somewhat better than guessing ham for every email. When tasked with implementing word features, one feature that didnt perform well was \"money\". Our X_train will have too many rows with 0 in it and thus with our chosen feature it will not be present in many of the emails resulting in it being hard to distinguish ham from spam. Its better to go through the thousands of emails, eliminating spam by hand then by using a false-alarm classifier to filter out an inbox, where 2% of our legitmate emails were filtered out."
   ]
  },
  {
   "cell_type": "markdown",
   "metadata": {
    "deletable": false,
    "editable": false
   },
   "source": [
    "---\n",
    "\n",
    "To double-check your work, the cell below will rerun all of the autograder tests."
   ]
  },
  {
   "cell_type": "code",
   "execution_count": 26,
   "metadata": {
    "deletable": false,
    "editable": false
   },
   "outputs": [
    {
     "data": {
      "text/html": [
       "<p><strong><pre style='display: inline;'>q2</pre></strong> passed!</p>\n",
       "\n",
       "<p><strong><pre style='display: inline;'>q4</pre></strong> passed!</p>\n",
       "\n",
       "<p><strong><pre style='display: inline;'>q5</pre></strong> passed!</p>\n",
       "\n",
       "<p><strong><pre style='display: inline;'>q6a</pre></strong> passed!</p>\n",
       "\n",
       "<p><strong><pre style='display: inline;'>q6b</pre></strong> passed!</p>\n",
       "\n",
       "<p><strong><pre style='display: inline;'>q6d</pre></strong> passed!</p>\n",
       "\n"
      ],
      "text/plain": [
       "q2 results: All test cases passed!\n",
       "\n",
       "q4 results: All test cases passed!\n",
       "\n",
       "q5 results: All test cases passed!\n",
       "\n",
       "q6a results: All test cases passed!\n",
       "\n",
       "q6b results: All test cases passed!\n",
       "\n",
       "q6d results: All test cases passed!\n"
      ]
     },
     "execution_count": 26,
     "metadata": {},
     "output_type": "execute_result"
    }
   ],
   "source": [
    "grader.check_all()"
   ]
  },
  {
   "cell_type": "markdown",
   "metadata": {
    "deletable": false,
    "editable": false
   },
   "source": [
    "## Submission\n",
    "\n",
    "Make sure you have run all cells in your notebook in order before running the cell below, so that all images/graphs appear in the output. The cell below will generate a zip file for you to submit. **Please save before exporting!**"
   ]
  },
  {
   "cell_type": "code",
   "execution_count": 27,
   "metadata": {
    "deletable": false,
    "editable": false
   },
   "outputs": [
    {
     "data": {
      "text/html": [
       "\n",
       "                <p>Your submission has been exported. Click <a href=\"hw10.zip\" target=\"_blank\">here</a>\n",
       "                to download the zip file.</p>\n",
       "                "
      ],
      "text/plain": [
       "<IPython.core.display.HTML object>"
      ]
     },
     "metadata": {},
     "output_type": "display_data"
    }
   ],
   "source": [
    "# Save your notebook first, then run this cell to export your submission.\n",
    "grader.export()"
   ]
  },
  {
   "cell_type": "markdown",
   "metadata": {},
   "source": [
    " "
   ]
  }
 ],
 "metadata": {
  "kernelspec": {
   "display_name": "Python 3 (ipykernel)",
   "language": "python",
   "name": "python3"
  },
  "language_info": {
   "codemirror_mode": {
    "name": "ipython",
    "version": 3
   },
   "file_extension": ".py",
   "mimetype": "text/x-python",
   "name": "python",
   "nbconvert_exporter": "python",
   "pygments_lexer": "ipython3",
   "version": "3.8.10"
  }
 },
 "nbformat": 4,
 "nbformat_minor": 2
}
